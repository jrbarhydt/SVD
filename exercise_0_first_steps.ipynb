{
 "cells": [
  {
   "cell_type": "markdown",
   "metadata": {},
   "source": [
    "# A hands-on Python tutorial\n",
    "This tutorial will guide you through the basics of Python. We will present 3 problems to solve to be well-equipped for solving computer vision tasks with this language.\n",
    "\n",
    "\n",
    "## Part 1. Python basics\n",
    "Python is a very simple language.\n",
    "To define a variable, simply use the equation sign:\n",
    "```python\n",
    "x = 3\n",
    "```\n",
    "Then, you can print the value of the variable with the printing command:\n",
    "```python\n",
    "print(x)\n",
    "```\n",
    "\n",
    "Standard mathematical operations are done with +,-,/ and * commands.\n",
    "\n",
    "*Task 1.1.* In the cell below, compute how many foreign residents Switzerland had in 2015 if the total number of inhabitants was 8327126 and the fraction of foreigners was 24.6%. Hint: use round() function to remove decimals from your result."
   ]
  },
  {
   "cell_type": "code",
   "execution_count": 8,
   "metadata": {
    "scrolled": true
   },
   "outputs": [
    {
     "name": "stdout",
     "output_type": "stream",
     "text": [
      "2048473\n"
     ]
    }
   ],
   "source": [
    "x=round(8327126*.246)\n",
    "print(x)"
   ]
  },
  {
   "cell_type": "markdown",
   "metadata": {},
   "source": [
    "Result: 2048473"
   ]
  },
  {
   "cell_type": "markdown",
   "metadata": {},
   "source": [
    "To define a function, use syntax as in the following example:\n",
    "```python\n",
    "def compute_number_of_days(age):\n",
    "    # this function roughly computes the number of days a person has lived\n",
    "    days = age * 365\n",
    "    return days\n",
    "    \n",
    "```\n",
    "The function will return the variable written next to the ```return``` word and will stop execution after. To add a comment to your code (that will not be executed and is just needed to make the code better readable, use hash (```#```).\n",
    "To call a function after its definition, just type its name and pass its arguments in the brackets, as in the example below.\n",
    "```python\n",
    "days = compute_number_of_days(22)\n",
    "```\n",
    "\n",
    "Functions can also be called from inside another function:\n",
    "```python\n",
    "def print_congratulations(age, name):\n",
    "    days = compute_number_of_days(age)\n",
    "    print('Hello ' + name + '! You have already lived on this planet for ' + str(days) + ' days!')\n",
    "```\n",
    "In this example, we use + to concatenate strings. ```days``` is not a string but a number, so we use the ```str``` function to convert it to a string before concatenation.\n",
    "\n",
    "If you call\n",
    "```python\n",
    "print_congratulations(22, 'Nikolay')\n",
    "```\n",
    "the function will print\n",
    "```\n",
    "Hello Nikolay! You have already lived on this planet for 8030 days!\n",
    "```\n",
    "\n",
    "Another important concept of Python is lists. Lists are similar to arrays in other languages, and are used to aggregate multiple (dis)similar objects in a sequence. It is very easy to define them as in the following example:\n",
    "```python\n",
    "ages_parents = [51, 52]\n",
    "ages_children = [2, 4, 10]\n",
    "```\n",
    "This code creates 2 lists. The first list stores ages of parents, and the second stores ages of their kids. You can easily concatenate arrays with the plus sign:\n",
    "```python\n",
    "ages_family = ages_parents + ages_children\n",
    "print(ages_family)\n",
    "```\n",
    "This code will print\n",
    "```\n",
    "[51, 52, 2, 4, 10]\n",
    "```\n",
    "\n",
    "Another important structure in Python is the ```for``` loop, which is used to repeatedly perform the same operation. You can call a ```for``` loop for each element of a list in the way shown below:\n",
    "```python\n",
    "total_age = 0\n",
    "for age in ages_family:\n",
    "    total_age = total_age + age\n",
    "print(total_age)\n",
    "```\n",
    "This code will print 119, which is the total age of the people in the family. Note that you must *indent* the commands inside the ```for``` loop. The end of these commands is implicitly defined by switching to the previous indentation level. This is also the case for other Python structures, such as function definitions, ```while``` loops etc.\n",
    "\n",
    "However, you can also iterate with an index and not array elements. This is useful in many cases, for example, when you have a second array that corresponds to the first one. Consider the following example:\n",
    "```python\n",
    "ages_family = [51, 52, 2, 4, 10]\n",
    "names = ['Patrick', 'Maria', 'Emma', 'Jordi', 'Vasiliy']\n",
    "```\n",
    "We have two lists, the first containing the ages of family members and the second containing their names. To find out the length of an array, you can use ```len()``` command. For example,\n",
    "```python\n",
    "print(len(names))\n",
    "```\n",
    "will print 5. Knowing the length of the list, you can iterate over it by using indexing. Consider the following example:\n",
    "```python\n",
    "for i in range(0, len(names)):\n",
    "    current_name = names[i]\n",
    "    current_age = ages_family[i]\n",
    "    print_congratulations(current_age, current_name)\n",
    "\n",
    "```\n",
    "Here, we use ```[i]``` to access the i-th element of the list. The above code will print the following:\n",
    "```\n",
    "Hello Patrick! You have already lived on this planet for 18615 days!\n",
    "Hello Maria! You have already lived on this planet for 18980 days!\n",
    "Hello Emma! You have already lived on this planet for 730 days!\n",
    "Hello Jordi! You have already lived on this planet for 1460 days!\n",
    "Hello Vasiliy! You have already lived on this planet for 3650 days!\n",
    "```\n",
    "\n",
    "You can also nest the loops inside each other – but be sure you don't forget to use proper indentation and a different index variable for each loop. Have a look at the next example:\n",
    "```python\n",
    "for i in range(3, 7):\n",
    "    for j in range (100, 103):\n",
    "        mul = i * j\n",
    "        print('If you multiply ' + str(i) + ' by ' + str(j) + ', you get ' + str(mul))\n",
    "```\n",
    "It will print\n",
    "```\n",
    "If you multiply 3 by 100, you get 300\n",
    "If you multiply 3 by 101, you get 303\n",
    "If you multiply 3 by 102, you get 306\n",
    "If you multiply 4 by 100, you get 400\n",
    "If you multiply 4 by 101, you get 404\n",
    "If you multiply 4 by 102, you get 408\n",
    "If you multiply 5 by 100, you get 500\n",
    "If you multiply 5 by 101, you get 505\n",
    "If you multiply 5 by 102, you get 510\n",
    "If you multiply 6 by 100, you get 600\n",
    "If you multiply 6 by 101, you get 606\n",
    "If you multiply 6 by 102, you get 612\n",
    "```\n",
    "\n",
    "*Task 1.2.* For a triangle with base $b$ and height $h_b$, the area is computed as $A=\\frac{h_b b}{2}$. You have 100 triangles with base sizes linearly growing from 1 to 100 and heights decreasing from 150 to 51. Write code to compute the total area of all the triangles. You need to define a function to compute an area of one triangle, and then use a for loop to compute the total sum. A hint: when defining the function for area calculation, divide not by 2 but by 2.0. This will trigger *type coercion* so that a floating-point division is performed instead of an integer division. E.g. 5 / 2 = 2, but 5 / 2.0 = 2.5."
   ]
  },
  {
   "cell_type": "code",
   "execution_count": 9,
   "metadata": {},
   "outputs": [
    {
     "name": "stdout",
     "output_type": "stream",
     "text": [
      "212100\n"
     ]
    }
   ],
   "source": [
    "import numpy as np\n",
    "\n",
    "b=np.arange(1,101) # base-sizes from 1 to 100\n",
    "h=np.arange(50,151)[:0:-1] # height-sizes from 150 to 51\n",
    "\"note: one digit is lost in the above matrix from fence-posting, hence 50:151\"\n",
    "\n",
    "def triangleArea(base,height):\n",
    "    \"receives size of base and height and returns area of triangle\"\n",
    "    return base*height/2\n",
    "\n",
    "areas=triangleArea(b,h) # array of triangle areas\n",
    "areaSum=sum(areas) # sum of each triangle's area\n",
    "print(int(areaSum)) # print result"
   ]
  },
  {
   "cell_type": "markdown",
   "metadata": {},
   "source": [
    "Result: 212100"
   ]
  },
  {
   "cell_type": "markdown",
   "metadata": {},
   "source": [
    "## Part 2. Working with matrices\n",
    "The real power of Python is revealed when it comes to packages. Packages can be thought of as libraries and provide code and functions for specific applications. One of the most important and popular packages in Python is **numpy**. It is designed for scientific computing and has excellent support for matrix operations that are essential in Computer Vision. It is also well-documented online (e.g. https://docs.scipy.org/doc/numpy-1.13.0/reference/), with detailed explanations of functions, arguments, concepts etc.\n",
    "\n",
    "To get started with numpy, you first have to import this package. This is done as follows:\n",
    "```python\n",
    "import numpy as np\n",
    "```\n",
    "\n",
    "This will import the numpy package under the name 'np'. For example, to generate a random number, one has to call\n",
    "```python\n",
    "x = np.random.rand()\n",
    "```\n",
    "This calls ```rand()``` function from the ```random``` subpackage.\n",
    "\n",
    "To define a numpy matrix, the following syntax can be used:\n",
    "```python\n",
    "A = np.matrix([[1, 2], [3, 4], [5, 6]])\n",
    "```\n",
    "This will create the following matrix:\n",
    "$A = \\begin{pmatrix} 1 & 2 \\\\ 3 & 4 \\\\ 5 & 6 \\end{pmatrix}$.\n",
    "\n",
    "If you are interested in the dimensions of the matrix, use the ```shape()``` function. For example,\n",
    "```python\n",
    "print(np.shape(A))\n",
    "```\n",
    "will print ```(3, 2)```.\n",
    "\n",
    "To define a vector, use the ```array``` constructor, as follows:\n",
    "```python\n",
    "b = np.array([1, 2])\n",
    "```\n",
    "To left-multiply a vector by matrix, use ```dot()``` operation:\n",
    "```python\n",
    "r = A.dot(b)\n",
    "print(r)\n",
    "```\n",
    "will print\n",
    "```\n",
    "[[ 5]\n",
    " [11]\n",
    " [17]]\n",
    "```\n",
    "Please note that this results in a matrix of shape (3, 1). To transpose a matrix, use a ```.T``` construction:\n",
    "```python\n",
    "print(r.T)\n",
    "```\n",
    "will print\n",
    "```\n",
    "[[ 5 11 17]]\n",
    "```\n",
    "\n",
    "To find a maximal value in the array, you can use the ```max()``` function from numpy:\n",
    "```python\n",
    "print(np.max(r))\n",
    "```\n",
    "will print\n",
    "```\n",
    "17\n",
    "```\n",
    "To find the index of the element that contains the maximal value, use the ```argmax()``` function:\n",
    "```python\n",
    "print(np.argmax(r))\n",
    "```\n",
    "will print\n",
    "```\n",
    "2\n",
    "```\n",
    "This is because indices in Python are zero-based, and the last element of a vector of length 3 has index 2.\n",
    "\n",
    "*Task 2.1.* You have 50 warehouses that store 3 products with the prices CHF 3, 5, and 1 per product item. The quantity of each product in each warehouse is a random variable uniformly sampled between 1 and 10. Find the warehouse that has the highest value of goods in total. We suggest the following steps to solve the problem:\n",
    "* Define random matrix of product quantities. For that, use numpy function ```np.random.randint(vmin, vmax, (rows, cols))```, where ```vmin``` and ```vmax``` are the minimal and maximal values of uniform distribution, and ```rows``` and ```cols``` define the dimensions of the matrix.\n",
    "* Define the vector of prices.\n",
    "* Compute the dot product between the matrix and the vector.\n",
    "* Use ```argmax()``` to compute the index of the warehouse with the highest value of goods."
   ]
  },
  {
   "cell_type": "code",
   "execution_count": 32,
   "metadata": {},
   "outputs": [
    {
     "name": "stdout",
     "output_type": "stream",
     "text": [
      "Warehouse #6 is the most valuable.\n"
     ]
    }
   ],
   "source": [
    "inventories=np.random.randint(1,10,(50,3))\n",
    "prices=np.array([3,5,1])\n",
    "houseInventoryValues=prices*inventories\n",
    "houseTotalValues=houseInventoryValues.sum(axis=1)\n",
    "mostVal=np.argmax(houseTotalValues)+1\n",
    "print('Warehouse #'+str(mostVal)  + ' is the most valuable.')\n"
   ]
  },
  {
   "cell_type": "markdown",
   "metadata": {
    "collapsed": true
   },
   "source": [
    "## Part 3. Working with images\n",
    "This part will be rather passive. We will guide you through steps for building a naive object detector. Your goal is to follow the code and understand what is happening in every line. Ask a TA if you do not understand something.\n",
    "\n",
    "We start by loading the needed packages."
   ]
  },
  {
   "cell_type": "code",
   "execution_count": 33,
   "metadata": {},
   "outputs": [],
   "source": [
    "import numpy as np\n",
    "# This is another way of loading a package. You can use it when you don't need\n",
    "# to load the whole package, but only some parts of it. We need misc for\n",
    "# reading an image file\n",
    "from scipy import misc\n",
    "# This is a plotting tool for python. We will use it for image visualization\n",
    "import matplotlib.pyplot as plt\n",
    "# This is a special command for Jupyter notebook. It forces plots to be refreshed\n",
    "# when you recompute a cell\n",
    "%matplotlib inline "
   ]
  },
  {
   "cell_type": "markdown",
   "metadata": {},
   "source": [
    "Now we are ready to load the picture and plot it! When an image is loaded, it is a matrix of size (height, width, 3). 3 comes from the fact that there are 3 color channels (red, green and blue). By default, the numbers are integers in range between 0 and 255. We will divide them by 255 to obtain a matrix with values in range (0, 1)."
   ]
  },
  {
   "cell_type": "code",
   "execution_count": 34,
   "metadata": {},
   "outputs": [
    {
     "name": "stderr",
     "output_type": "stream",
     "text": [
      "C:\\Users\\Johnathon\\Anaconda3\\lib\\site-packages\\ipykernel_launcher.py:1: DeprecationWarning: `imread` is deprecated!\n",
      "`imread` is deprecated in SciPy 1.0.0, and will be removed in 1.2.0.\n",
      "Use ``imageio.imread`` instead.\n",
      "  \"\"\"Entry point for launching an IPython kernel.\n"
     ]
    },
    {
     "ename": "FileNotFoundError",
     "evalue": "[Errno 2] No such file or directory: '/home/cvcourse/pics/clown.jpg'",
     "output_type": "error",
     "traceback": [
      "\u001b[1;31m---------------------------------------------------------------------------\u001b[0m",
      "\u001b[1;31mFileNotFoundError\u001b[0m                         Traceback (most recent call last)",
      "\u001b[1;32m<ipython-input-34-4ce0113498e9>\u001b[0m in \u001b[0;36m<module>\u001b[1;34m()\u001b[0m\n\u001b[1;32m----> 1\u001b[1;33m \u001b[0mclown\u001b[0m \u001b[1;33m=\u001b[0m \u001b[0mmisc\u001b[0m\u001b[1;33m.\u001b[0m\u001b[0mimread\u001b[0m\u001b[1;33m(\u001b[0m\u001b[1;34m'/home/cvcourse/pics/clown.jpg'\u001b[0m\u001b[1;33m)\u001b[0m\u001b[1;33m\u001b[0m\u001b[0m\n\u001b[0m\u001b[0;32m      2\u001b[0m \u001b[0mclown\u001b[0m \u001b[1;33m=\u001b[0m \u001b[0mclown\u001b[0m \u001b[1;33m/\u001b[0m \u001b[1;36m255.0\u001b[0m\u001b[1;33m\u001b[0m\u001b[0m\n\u001b[0;32m      3\u001b[0m \u001b[0mplt\u001b[0m\u001b[1;33m.\u001b[0m\u001b[0mimshow\u001b[0m\u001b[1;33m(\u001b[0m\u001b[0mclown\u001b[0m\u001b[1;33m)\u001b[0m\u001b[1;33m\u001b[0m\u001b[0m\n",
      "\u001b[1;32m~\\Anaconda3\\lib\\site-packages\\numpy\\lib\\utils.py\u001b[0m in \u001b[0;36mnewfunc\u001b[1;34m(*args, **kwds)\u001b[0m\n\u001b[0;32m     99\u001b[0m             \u001b[1;34m\"\"\"`arrayrange` is deprecated, use `arange` instead!\"\"\"\u001b[0m\u001b[1;33m\u001b[0m\u001b[0m\n\u001b[0;32m    100\u001b[0m             \u001b[0mwarnings\u001b[0m\u001b[1;33m.\u001b[0m\u001b[0mwarn\u001b[0m\u001b[1;33m(\u001b[0m\u001b[0mdepdoc\u001b[0m\u001b[1;33m,\u001b[0m \u001b[0mDeprecationWarning\u001b[0m\u001b[1;33m,\u001b[0m \u001b[0mstacklevel\u001b[0m\u001b[1;33m=\u001b[0m\u001b[1;36m2\u001b[0m\u001b[1;33m)\u001b[0m\u001b[1;33m\u001b[0m\u001b[0m\n\u001b[1;32m--> 101\u001b[1;33m             \u001b[1;32mreturn\u001b[0m \u001b[0mfunc\u001b[0m\u001b[1;33m(\u001b[0m\u001b[1;33m*\u001b[0m\u001b[0margs\u001b[0m\u001b[1;33m,\u001b[0m \u001b[1;33m**\u001b[0m\u001b[0mkwds\u001b[0m\u001b[1;33m)\u001b[0m\u001b[1;33m\u001b[0m\u001b[0m\n\u001b[0m\u001b[0;32m    102\u001b[0m \u001b[1;33m\u001b[0m\u001b[0m\n\u001b[0;32m    103\u001b[0m         \u001b[0mnewfunc\u001b[0m \u001b[1;33m=\u001b[0m \u001b[0m_set_function_name\u001b[0m\u001b[1;33m(\u001b[0m\u001b[0mnewfunc\u001b[0m\u001b[1;33m,\u001b[0m \u001b[0mold_name\u001b[0m\u001b[1;33m)\u001b[0m\u001b[1;33m\u001b[0m\u001b[0m\n",
      "\u001b[1;32m~\\Anaconda3\\lib\\site-packages\\scipy\\misc\\pilutil.py\u001b[0m in \u001b[0;36mimread\u001b[1;34m(name, flatten, mode)\u001b[0m\n\u001b[0;32m    162\u001b[0m     \"\"\"\n\u001b[0;32m    163\u001b[0m \u001b[1;33m\u001b[0m\u001b[0m\n\u001b[1;32m--> 164\u001b[1;33m     \u001b[0mim\u001b[0m \u001b[1;33m=\u001b[0m \u001b[0mImage\u001b[0m\u001b[1;33m.\u001b[0m\u001b[0mopen\u001b[0m\u001b[1;33m(\u001b[0m\u001b[0mname\u001b[0m\u001b[1;33m)\u001b[0m\u001b[1;33m\u001b[0m\u001b[0m\n\u001b[0m\u001b[0;32m    165\u001b[0m     \u001b[1;32mreturn\u001b[0m \u001b[0mfromimage\u001b[0m\u001b[1;33m(\u001b[0m\u001b[0mim\u001b[0m\u001b[1;33m,\u001b[0m \u001b[0mflatten\u001b[0m\u001b[1;33m=\u001b[0m\u001b[0mflatten\u001b[0m\u001b[1;33m,\u001b[0m \u001b[0mmode\u001b[0m\u001b[1;33m=\u001b[0m\u001b[0mmode\u001b[0m\u001b[1;33m)\u001b[0m\u001b[1;33m\u001b[0m\u001b[0m\n\u001b[0;32m    166\u001b[0m \u001b[1;33m\u001b[0m\u001b[0m\n",
      "\u001b[1;32m~\\Anaconda3\\lib\\site-packages\\PIL\\Image.py\u001b[0m in \u001b[0;36mopen\u001b[1;34m(fp, mode)\u001b[0m\n\u001b[0;32m   2546\u001b[0m \u001b[1;33m\u001b[0m\u001b[0m\n\u001b[0;32m   2547\u001b[0m     \u001b[1;32mif\u001b[0m \u001b[0mfilename\u001b[0m\u001b[1;33m:\u001b[0m\u001b[1;33m\u001b[0m\u001b[0m\n\u001b[1;32m-> 2548\u001b[1;33m         \u001b[0mfp\u001b[0m \u001b[1;33m=\u001b[0m \u001b[0mbuiltins\u001b[0m\u001b[1;33m.\u001b[0m\u001b[0mopen\u001b[0m\u001b[1;33m(\u001b[0m\u001b[0mfilename\u001b[0m\u001b[1;33m,\u001b[0m \u001b[1;34m\"rb\"\u001b[0m\u001b[1;33m)\u001b[0m\u001b[1;33m\u001b[0m\u001b[0m\n\u001b[0m\u001b[0;32m   2549\u001b[0m         \u001b[0mexclusive_fp\u001b[0m \u001b[1;33m=\u001b[0m \u001b[1;32mTrue\u001b[0m\u001b[1;33m\u001b[0m\u001b[0m\n\u001b[0;32m   2550\u001b[0m \u001b[1;33m\u001b[0m\u001b[0m\n",
      "\u001b[1;31mFileNotFoundError\u001b[0m: [Errno 2] No such file or directory: '/home/cvcourse/pics/clown.jpg'"
     ]
    }
   ],
   "source": [
    "clown = misc.imread('/home/cvcourse/pics/clown.jpg')\n",
    "clown = clown / 255.0\n",
    "plt.imshow(clown)"
   ]
  },
  {
   "cell_type": "markdown",
   "metadata": {},
   "source": [
    "We will implement a naive red nose detector. It just detects the red-most pixel in the image. During the course, you will learn more sophisticated ways of solving similar tasks. We present this instructional method to show you the pythonic way of solving matrix-related problems.\n",
    "\n",
    "We will introduce another image that is just filled with red color. Then, we will compute the difference between the clown picture and the red one and will take the pixel with the smallest difference as the point where the nose is.\n",
    "\n",
    "First, let us define an image that is just red. As images are encoded with red, green, and blue channels, we create a matrix of the same size as the clown picture. We set the red channel to 1, and green and blue to 0 (that happens by default as we initialize the whole matrix with zeros)."
   ]
  },
  {
   "cell_type": "code",
   "execution_count": null,
   "metadata": {},
   "outputs": [],
   "source": [
    "red = np.zeros(np.shape(clown))\n",
    "# Setting red channel (that has index 0) to 1\n",
    "red[:,:,0] = 1\n",
    "plt.imshow(red)"
   ]
  },
  {
   "cell_type": "markdown",
   "metadata": {},
   "source": [
    "Now we want to compare pixels between the two images. We will use the standard mean-square distance for that:\n",
    "\n",
    "$d_{ij} = \\sqrt{\\sum_{k=1}^{3}(s_{ijk} - t_{ijk})^2}$\n",
    "\n",
    "Every element $d_{ij}$ of the distance matrix $D$ is just a Euclidean distance between pixel values for all 3 color channels in two compared images $S$ and $T$.\n",
    "\n",
    "To solve this equation in a pythonic way, we first simplify it by splitting it into two tasks:\n",
    "\n",
    "$r = s - t$\n",
    "\n",
    "$d_{ij} = \\sqrt{\\sum_{k=1}^{3}r_{ijk}^2}$\n",
    "\n",
    "This is exactly the same math, but the beauty of this approach is that one can compute both values with very simple matrix operations. To compute $r$, one simply has to subtract the matrices from each other. The definition of $d_{ij}$ is just a definition of Euclidean norm, for which numpy has a function. So the whole computation can be done with 2 lines of code."
   ]
  },
  {
   "cell_type": "code",
   "execution_count": null,
   "metadata": {},
   "outputs": [],
   "source": [
    "r = clown - red\n",
    "# The np.linalg.norm function computes the norm of a vector. We are giving it a tensor of size (200, 185, 3).\n",
    "# By default, it will give one number that will be the norm of all items in this tensor. However, if we provide\n",
    "# the axis argument, the function will only compute norm in the given dimension. If we set axis to 2, we get a\n",
    "# matrix of size (200, 185), every element of which is a norm of (r, g, b) values of a corresponding pixel.\n",
    "d = np.linalg.norm(r, axis=2)\n",
    "# When given a matrix with values, the imshow function color-maps them.\n",
    "plt.imshow(d)"
   ]
  },
  {
   "cell_type": "markdown",
   "metadata": {
    "collapsed": true
   },
   "source": [
    "Now we can detect the pixel with the lowest value in the matrix (that will be the pixel that corresponds to the red-most pixel in the original image). The ```argmin``` function returns an index of the matrix element that has the lowest value. This index is a number from 0 to $N-1$, where $N$ is the number of elements in the matrix. To convert it to (x, y) coordinates, the ```unravel_index``` function needs to be used."
   ]
  },
  {
   "cell_type": "code",
   "execution_count": null,
   "metadata": {},
   "outputs": [],
   "source": [
    "maxind = np.argmin(d)\n",
    "# We obtain the height and width of the image\n",
    "clown_hw = np.shape(clown)[0:2]\n",
    "(y, x) = np.unravel_index(maxind, clown_hw)"
   ]
  },
  {
   "cell_type": "markdown",
   "metadata": {},
   "source": [
    "The ```scatter``` function can be used for drawing a blue point in the picture to identify the nose pixel that our detector has identified."
   ]
  },
  {
   "cell_type": "code",
   "execution_count": null,
   "metadata": {},
   "outputs": [],
   "source": [
    "plt.scatter(x, y)\n",
    "plt.imshow(clown)"
   ]
  },
  {
   "cell_type": "markdown",
   "metadata": {},
   "source": [
    "As you see, the detector we have built is not exactly perfect — it just returns a random point on the clown's nose. If there were some other red objects in the picture, we could not guarantee that the point would be on the nose any longer. During the course you will learn much more principled ways of image processing.\n",
    "\n",
    "Good luck!"
   ]
  }
 ],
 "metadata": {
  "anaconda-cloud": {},
  "kernelspec": {
   "display_name": "Python 3",
   "language": "python",
   "name": "python3"
  },
  "language_info": {
   "codemirror_mode": {
    "name": "ipython",
    "version": 3
   },
   "file_extension": ".py",
   "mimetype": "text/x-python",
   "name": "python",
   "nbconvert_exporter": "python",
   "pygments_lexer": "ipython3",
   "version": "3.6.5"
  }
 },
 "nbformat": 4,
 "nbformat_minor": 1
}
